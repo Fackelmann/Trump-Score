{
 "cells": [
  {
   "cell_type": "markdown",
   "metadata": {},
   "source": [
    "In this notebook we will train our neural network to detect Trump's tweets using the data we obtained in the data_extraction notebook."
   ]
  },
  {
   "cell_type": "code",
   "execution_count": 1,
   "metadata": {},
   "outputs": [],
   "source": [
    "from __future__ import absolute_import, division, print_function\n",
    "import tensorflow as tf\n",
    "from tensorflow import keras\n",
    "import numpy as np\n",
    "import pickle\n",
    "from sklearn.model_selection import train_test_split\n",
    "from sklearn.feature_extraction.text import CountVectorizer"
   ]
  },
  {
   "cell_type": "markdown",
   "metadata": {},
   "source": [
    "First, let's extract our data and labels"
   ]
  },
  {
   "cell_type": "code",
   "execution_count": 2,
   "metadata": {},
   "outputs": [],
   "source": [
    "infile = open(\"tweet_data\",'rb')\n",
    "data = pickle.load(infile)\n",
    "infile.close()"
   ]
  },
  {
   "cell_type": "code",
   "execution_count": 3,
   "metadata": {},
   "outputs": [],
   "source": [
    "infile = open(\"data_labels\",'rb')\n",
    "labels = pickle.load(infile)\n",
    "infile.close()"
   ]
  },
  {
   "cell_type": "markdown",
   "metadata": {},
   "source": [
    "Data is originally in the form of a numpy vector. For our model we just want to have a list. We make this conversion here"
   ]
  },
  {
   "cell_type": "code",
   "execution_count": 4,
   "metadata": {},
   "outputs": [],
   "source": [
    "# Convert numpy input to regular list\n",
    "data_list = []\n",
    "for tweet in data:\n",
    "    data_list.append(tweet[0].tolist())"
   ]
  },
  {
   "cell_type": "markdown",
   "metadata": {},
   "source": [
    "And we will also pad the input sequence so the maximum length is 256. This is more than enough for Twitter"
   ]
  },
  {
   "cell_type": "code",
   "execution_count": 5,
   "metadata": {},
   "outputs": [],
   "source": [
    "data_list= keras.preprocessing.sequence.pad_sequences(data_list,\n",
    "                                                        value=10001,\n",
    "                                                        padding='post',\n",
    "                                                        maxlen=256)"
   ]
  },
  {
   "cell_type": "markdown",
   "metadata": {},
   "source": [
    "Let's see the differnce between the original data and the pre-processed, padded data"
   ]
  },
  {
   "cell_type": "code",
   "execution_count": 6,
   "metadata": {
    "scrolled": true
   },
   "outputs": [
    {
     "data": {
      "text/plain": [
       "array([1445, 2265, 4522, 4922, 5255, 6157, 6614, 6953, 8298, 8771, 8921,\n",
       "       9035, 9637], dtype=int32)"
      ]
     },
     "execution_count": 6,
     "metadata": {},
     "output_type": "execute_result"
    }
   ],
   "source": [
    "data[568][0]"
   ]
  },
  {
   "cell_type": "code",
   "execution_count": 7,
   "metadata": {
    "scrolled": false
   },
   "outputs": [
    {
     "data": {
      "text/plain": [
       "array([ 1445,  2265,  4522,  4922,  5255,  6157,  6614,  6953,  8298,\n",
       "        8771,  8921,  9035,  9637, 10001, 10001, 10001, 10001, 10001,\n",
       "       10001, 10001, 10001, 10001, 10001, 10001, 10001, 10001, 10001,\n",
       "       10001, 10001, 10001, 10001, 10001, 10001, 10001, 10001, 10001,\n",
       "       10001, 10001, 10001, 10001, 10001, 10001, 10001, 10001, 10001,\n",
       "       10001, 10001, 10001, 10001, 10001, 10001, 10001, 10001, 10001,\n",
       "       10001, 10001, 10001, 10001, 10001, 10001, 10001, 10001, 10001,\n",
       "       10001, 10001, 10001, 10001, 10001, 10001, 10001, 10001, 10001,\n",
       "       10001, 10001, 10001, 10001, 10001, 10001, 10001, 10001, 10001,\n",
       "       10001, 10001, 10001, 10001, 10001, 10001, 10001, 10001, 10001,\n",
       "       10001, 10001, 10001, 10001, 10001, 10001, 10001, 10001, 10001,\n",
       "       10001, 10001, 10001, 10001, 10001, 10001, 10001, 10001, 10001,\n",
       "       10001, 10001, 10001, 10001, 10001, 10001, 10001, 10001, 10001,\n",
       "       10001, 10001, 10001, 10001, 10001, 10001, 10001, 10001, 10001,\n",
       "       10001, 10001, 10001, 10001, 10001, 10001, 10001, 10001, 10001,\n",
       "       10001, 10001, 10001, 10001, 10001, 10001, 10001, 10001, 10001,\n",
       "       10001, 10001, 10001, 10001, 10001, 10001, 10001, 10001, 10001,\n",
       "       10001, 10001, 10001, 10001, 10001, 10001, 10001, 10001, 10001,\n",
       "       10001, 10001, 10001, 10001, 10001, 10001, 10001, 10001, 10001,\n",
       "       10001, 10001, 10001, 10001, 10001, 10001, 10001, 10001, 10001,\n",
       "       10001, 10001, 10001, 10001, 10001, 10001, 10001, 10001, 10001,\n",
       "       10001, 10001, 10001, 10001, 10001, 10001, 10001, 10001, 10001,\n",
       "       10001, 10001, 10001, 10001, 10001, 10001, 10001, 10001, 10001,\n",
       "       10001, 10001, 10001, 10001, 10001, 10001, 10001, 10001, 10001,\n",
       "       10001, 10001, 10001, 10001, 10001, 10001, 10001, 10001, 10001,\n",
       "       10001, 10001, 10001, 10001, 10001, 10001, 10001, 10001, 10001,\n",
       "       10001, 10001, 10001, 10001, 10001, 10001, 10001, 10001, 10001,\n",
       "       10001, 10001, 10001, 10001, 10001, 10001, 10001, 10001, 10001,\n",
       "       10001, 10001, 10001, 10001], dtype=int32)"
      ]
     },
     "execution_count": 7,
     "metadata": {},
     "output_type": "execute_result"
    }
   ],
   "source": [
    "data_list[568]"
   ]
  },
  {
   "cell_type": "markdown",
   "metadata": {},
   "source": [
    "Now we will split our data randomly in train data, test data, and validation data"
   ]
  },
  {
   "cell_type": "code",
   "execution_count": 8,
   "metadata": {},
   "outputs": [],
   "source": [
    "data_train, data_test, label_train, label_test = train_test_split(data_list, labels, test_size=0.2, random_state=1)"
   ]
  },
  {
   "cell_type": "code",
   "execution_count": 9,
   "metadata": {},
   "outputs": [],
   "source": [
    "partial_data_train, data_val, partial_label_train, label_val = train_test_split(data_train, label_train, test_size=0.2, random_state=1)"
   ]
  },
  {
   "cell_type": "markdown",
   "metadata": {},
   "source": [
    "# Training the model"
   ]
  },
  {
   "cell_type": "markdown",
   "metadata": {},
   "source": [
    "Finally we create a model with all the layers we will use. An embedding layer, a hidden layer with 16 hidden units, and one output layer"
   ]
  },
  {
   "cell_type": "code",
   "execution_count": 10,
   "metadata": {},
   "outputs": [
    {
     "name": "stderr",
     "output_type": "stream",
     "text": [
      "WARNING: Logging before flag parsing goes to stderr.\n",
      "W0702 18:53:44.049793 4349027776 deprecation.py:506] From /Users/dgonzalez/.local/share/virtualenvs/TextClassificationTF-XtPpalaH/lib/python3.7/site-packages/tensorflow/python/keras/initializers.py:119: calling RandomUniform.__init__ (from tensorflow.python.ops.init_ops) with dtype is deprecated and will be removed in a future version.\n",
      "Instructions for updating:\n",
      "Call initializer instance with the dtype argument instead of passing it to the constructor\n",
      "W0702 18:53:44.067229 4349027776 deprecation.py:506] From /Users/dgonzalez/.local/share/virtualenvs/TextClassificationTF-XtPpalaH/lib/python3.7/site-packages/tensorflow/python/ops/init_ops.py:1251: calling VarianceScaling.__init__ (from tensorflow.python.ops.init_ops) with dtype is deprecated and will be removed in a future version.\n",
      "Instructions for updating:\n",
      "Call initializer instance with the dtype argument instead of passing it to the constructor\n"
     ]
    },
    {
     "name": "stdout",
     "output_type": "stream",
     "text": [
      "Model: \"sequential\"\n",
      "_________________________________________________________________\n",
      "Layer (type)                 Output Shape              Param #   \n",
      "=================================================================\n",
      "embedding (Embedding)        (None, None, 16)          160032    \n",
      "_________________________________________________________________\n",
      "global_average_pooling1d (Gl (None, 16)                0         \n",
      "_________________________________________________________________\n",
      "dense (Dense)                (None, 16)                272       \n",
      "_________________________________________________________________\n",
      "dense_1 (Dense)              (None, 1)                 17        \n",
      "=================================================================\n",
      "Total params: 160,321\n",
      "Trainable params: 160,321\n",
      "Non-trainable params: 0\n",
      "_________________________________________________________________\n"
     ]
    }
   ],
   "source": [
    "vocab_size = 10002\n",
    "\n",
    "model = keras.Sequential()\n",
    "model.add(keras.layers.Embedding(vocab_size, 16))\n",
    "model.add(keras.layers.GlobalAveragePooling1D())\n",
    "model.add(keras.layers.Dense(16, activation=tf.nn.relu))\n",
    "model.add(keras.layers.Dense(1, activation=tf.nn.sigmoid))\n",
    "\n",
    "model.summary()"
   ]
  },
  {
   "cell_type": "code",
   "execution_count": 11,
   "metadata": {},
   "outputs": [
    {
     "name": "stderr",
     "output_type": "stream",
     "text": [
      "W0702 18:53:44.126354 4349027776 deprecation.py:323] From /Users/dgonzalez/.local/share/virtualenvs/TextClassificationTF-XtPpalaH/lib/python3.7/site-packages/tensorflow/python/ops/nn_impl.py:180: add_dispatch_support.<locals>.wrapper (from tensorflow.python.ops.array_ops) is deprecated and will be removed in a future version.\n",
      "Instructions for updating:\n",
      "Use tf.where in 2.0, which has the same broadcast rule as np.where\n"
     ]
    }
   ],
   "source": [
    "model.compile(optimizer='adam',\n",
    "              loss='binary_crossentropy',\n",
    "              metrics=['acc'])"
   ]
  },
  {
   "cell_type": "markdown",
   "metadata": {},
   "source": [
    "We train during 10 epochs because after analysis we saw this was enoght not to under or over fit"
   ]
  },
  {
   "cell_type": "code",
   "execution_count": 12,
   "metadata": {},
   "outputs": [
    {
     "name": "stdout",
     "output_type": "stream",
     "text": [
      "Train on 64470 samples, validate on 16118 samples\n",
      "Epoch 1/10\n",
      "64470/64470 [==============================] - 1s 17us/sample - loss: 0.6423 - acc: 0.7318 - val_loss: 0.5833 - val_acc: 0.7461\n",
      "Epoch 2/10\n",
      "64470/64470 [==============================] - 2s 26us/sample - loss: 0.5701 - acc: 0.7431 - val_loss: 0.5625 - val_acc: 0.7461\n",
      "Epoch 3/10\n",
      "64470/64470 [==============================] - 1s 16us/sample - loss: 0.5634 - acc: 0.7431 - val_loss: 0.5571 - val_acc: 0.7461\n",
      "Epoch 4/10\n",
      "64470/64470 [==============================] - 1s 14us/sample - loss: 0.5542 - acc: 0.7431 - val_loss: 0.5429 - val_acc: 0.7461\n",
      "Epoch 5/10\n",
      "64470/64470 [==============================] - 1s 15us/sample - loss: 0.5310 - acc: 0.7431 - val_loss: 0.5101 - val_acc: 0.7461\n",
      "Epoch 6/10\n",
      "64470/64470 [==============================] - 1s 15us/sample - loss: 0.4864 - acc: 0.7455 - val_loss: 0.4556 - val_acc: 0.7631\n",
      "Epoch 7/10\n",
      "64470/64470 [==============================] - 1s 15us/sample - loss: 0.4219 - acc: 0.7892 - val_loss: 0.3877 - val_acc: 0.8347\n",
      "Epoch 8/10\n",
      "64470/64470 [==============================] - 1s 14us/sample - loss: 0.3564 - acc: 0.8495 - val_loss: 0.3319 - val_acc: 0.8635\n",
      "Epoch 9/10\n",
      "64470/64470 [==============================] - 1s 15us/sample - loss: 0.3080 - acc: 0.8811 - val_loss: 0.2947 - val_acc: 0.8833\n",
      "Epoch 10/10\n",
      "64470/64470 [==============================] - 1s 16us/sample - loss: 0.2748 - acc: 0.8963 - val_loss: 0.2688 - val_acc: 0.8937\n"
     ]
    }
   ],
   "source": [
    "history = model.fit(partial_data_train,\n",
    "                    partial_label_train,\n",
    "                    epochs=10,\n",
    "                    batch_size=512,\n",
    "                    validation_data=(data_val, label_val),\n",
    "                    verbose=1)"
   ]
  },
  {
   "cell_type": "code",
   "execution_count": 13,
   "metadata": {},
   "outputs": [
    {
     "name": "stdout",
     "output_type": "stream",
     "text": [
      "16118/16118 [==============================] - 0s 14us/sample - loss: 0.2688 - acc: 0.8937\n",
      "[0.2688471740189136, 0.89365923]\n"
     ]
    }
   ],
   "source": [
    "results = model.evaluate(data_val, label_val)\n",
    "\n",
    "print(results)"
   ]
  },
  {
   "cell_type": "markdown",
   "metadata": {},
   "source": [
    "Results look pretty good (~91% Accuracy). Let's try with some manual inputs"
   ]
  },
  {
   "cell_type": "markdown",
   "metadata": {},
   "source": [
    "# Testing with new inputs"
   ]
  },
  {
   "cell_type": "markdown",
   "metadata": {},
   "source": [
    "First we load the vectorizer we obtained in data_extraction. We need this to convert our inputs to a format we can input to the neural network"
   ]
  },
  {
   "cell_type": "code",
   "execution_count": 14,
   "metadata": {},
   "outputs": [],
   "source": [
    "infile = open(\"vectorizer\",'rb')\n",
    "vectorizer = pickle.load(infile)\n",
    "infile.close()"
   ]
  },
  {
   "cell_type": "code",
   "execution_count": 15,
   "metadata": {},
   "outputs": [
    {
     "data": {
      "text/plain": [
       "array([[0.99999964]], dtype=float32)"
      ]
     },
     "execution_count": 15,
     "metadata": {},
     "output_type": "execute_result"
    }
   ],
   "source": [
    "# Trump 2019\n",
    "test = vectorizer.transform([\"That’s right, The Trump Foundation gave away 100% plus, with Zero rent or expenses charged, and has been being sued by Cuomo and New York State for years - another part of the political Witch Hunt. Just in case anyone is interested - Clinton Foundation never even looked at!\"])\n",
    "testx = [sparse_row.indices for sparse_row in test]\n",
    "testx = testx[0].tolist()\n",
    "model.predict(np.array([testx]))"
   ]
  },
  {
   "cell_type": "code",
   "execution_count": 16,
   "metadata": {},
   "outputs": [
    {
     "data": {
      "text/plain": [
       "array([[0.00124034]], dtype=float32)"
      ]
     },
     "execution_count": 16,
     "metadata": {},
     "output_type": "execute_result"
    }
   ],
   "source": [
    "# Obama 2019\n",
    "test = vectorizer.transform([\"This is worth a read: a thought-provoking reminder that education reform isn’t a cure-all. As a supporter of education reform, I agree that fixing educational inequality requires doing more to address the broader, systemic sources of economic inequality.\"])\n",
    "testx = [sparse_row.indices for sparse_row in test]\n",
    "testx = testx[0].tolist()\n",
    "model.predict(np.array([testx]))"
   ]
  },
  {
   "cell_type": "code",
   "execution_count": 17,
   "metadata": {},
   "outputs": [
    {
     "data": {
      "text/plain": [
       "array([[4.091459e-05]], dtype=float32)"
      ]
     },
     "execution_count": 17,
     "metadata": {},
     "output_type": "execute_result"
    }
   ],
   "source": [
    "#Hillary 2019\n",
    "test = vectorizer.transform([\"There's ample evidence that Republicans in office have pursued gerrymandered maps to shut out people of color from our political process. I'm disappointed but not surprised about today's anti-democratic decision.\"])\n",
    "testx = [sparse_row.indices for sparse_row in test]\n",
    "testx = testx[0].tolist()\n",
    "model.predict(np.array([testx]))"
   ]
  },
  {
   "cell_type": "code",
   "execution_count": 18,
   "metadata": {},
   "outputs": [
    {
     "data": {
      "text/plain": [
       "array([[8.7476634e-05]], dtype=float32)"
      ]
     },
     "execution_count": 18,
     "metadata": {},
     "output_type": "execute_result"
    }
   ],
   "source": [
    "# Obama 2019\n",
    "tweet = \"Last week, it was Virginia Beach. But day after day and year after year, too many families and communities are shattered by senseless gun violence. We can't get numb to this. On National Gun Violence Awareness Day, pledge to speak out, #WearOrange — and vote — to protect lives.\"\n",
    "testx = [sparse_row.indices for sparse_row in  vectorizer.transform([tweet])][0].tolist()\n",
    "model.predict(np.array([testx]))"
   ]
  },
  {
   "cell_type": "code",
   "execution_count": 19,
   "metadata": {},
   "outputs": [
    {
     "data": {
      "text/plain": [
       "array([[0.9999263]], dtype=float32)"
      ]
     },
     "execution_count": 19,
     "metadata": {},
     "output_type": "execute_result"
    }
   ],
   "source": [
    "# Trump 2019\n",
    "tweet = \"Bipartisan Humanitarian Aid Bill for the Southern Border just passed. A great job done by all! Now we must work to get rid of the Loopholes and fix Asylum. Thank you also to Mexico for the work being done on helping with Illegal Immigration - a very big difference!\"\n",
    "testx = [sparse_row.indices for sparse_row in  vectorizer.transform([tweet])][0].tolist()\n",
    "model.predict(np.array([testx]))"
   ]
  },
  {
   "cell_type": "code",
   "execution_count": 20,
   "metadata": {},
   "outputs": [
    {
     "data": {
      "text/plain": [
       "array([[1.]], dtype=float32)"
      ]
     },
     "execution_count": 20,
     "metadata": {},
     "output_type": "execute_result"
    }
   ],
   "source": [
    "# Testing custom input\n",
    "tweet = \"BORING!\"\n",
    "testx = [sparse_row.indices for sparse_row in  vectorizer.transform([tweet])][0].tolist()\n",
    "model.predict(np.array([testx]))"
   ]
  },
  {
   "cell_type": "code",
   "execution_count": 21,
   "metadata": {},
   "outputs": [
    {
     "data": {
      "text/plain": [
       "array([[0.99996936]], dtype=float32)"
      ]
     },
     "execution_count": 21,
     "metadata": {},
     "output_type": "execute_result"
    }
   ],
   "source": [
    "# Trump 2019\n",
    "tweet = \"According to Fake News (and low ratings) @CNN, “Democrats say hearings could change impeachment debate.” That’s because they have lost the impeachment debate (80% say NO), and they are hoping that yet another DO OVER, after 2 1/2 years and $40,000,000, will turn things around....\"\n",
    "testx = [sparse_row.indices for sparse_row in  vectorizer.transform([tweet])][0].tolist()\n",
    "model.predict(np.array([testx]))"
   ]
  },
  {
   "cell_type": "code",
   "execution_count": 22,
   "metadata": {},
   "outputs": [
    {
     "data": {
      "text/plain": [
       "array([[0.00274609]], dtype=float32)"
      ]
     },
     "execution_count": 22,
     "metadata": {},
     "output_type": "execute_result"
    }
   ],
   "source": [
    "# Hillary\n",
    "tweet = \"The attack on Title X is not isolated. It’s clear that politicians who oppose reproductive health care are coming not just for abortion access, but all reproductive health care. It's up to all of us to fight back. #ProtectX\"\n",
    "testx = [sparse_row.indices for sparse_row in  vectorizer.transform([tweet])][0].tolist()\n",
    "model.predict(np.array([testx]))"
   ]
  },
  {
   "cell_type": "markdown",
   "metadata": {},
   "source": [
    "Results look promissing! Finally, let's take a look at our accuracy and loss curve over time"
   ]
  },
  {
   "cell_type": "markdown",
   "metadata": {},
   "source": [
    "# Accuracy and loss over time"
   ]
  },
  {
   "cell_type": "code",
   "execution_count": 23,
   "metadata": {},
   "outputs": [
    {
     "data": {
      "text/plain": [
       "dict_keys(['loss', 'acc', 'val_loss', 'val_acc'])"
      ]
     },
     "execution_count": 23,
     "metadata": {},
     "output_type": "execute_result"
    }
   ],
   "source": [
    "history_dict = history.history\n",
    "history_dict.keys()"
   ]
  },
  {
   "cell_type": "code",
   "execution_count": 24,
   "metadata": {},
   "outputs": [
    {
     "data": {
      "text/plain": [
       "<Figure size 640x480 with 1 Axes>"
      ]
     },
     "metadata": {},
     "output_type": "display_data"
    }
   ],
   "source": [
    "import matplotlib.pyplot as plt\n",
    "\n",
    "acc = history_dict['acc']\n",
    "val_acc = history_dict['val_acc']\n",
    "loss = history_dict['loss']\n",
    "val_loss = history_dict['val_loss']\n",
    "\n",
    "epochs = range(1, len(acc) + 1)\n",
    "\n",
    "# \"bo\" is for \"blue dot\"\n",
    "plt.plot(epochs, loss, 'bo', label='Training loss')\n",
    "# b is for \"solid blue line\"\n",
    "plt.plot(epochs, val_loss, 'b', label='Validation loss')\n",
    "plt.title('Training and validation loss')\n",
    "plt.xlabel('Epochs')\n",
    "plt.ylabel('Loss')\n",
    "plt.legend()\n",
    "\n",
    "plt.show()"
   ]
  },
  {
   "cell_type": "code",
   "execution_count": 25,
   "metadata": {},
   "outputs": [
    {
     "data": {
      "image/png": "[encoded data removed]",
      "text/plain": [
       "<Figure size 432x288 with 1 Axes>"
      ]
     },
     "metadata": {
      "needs_background": "light"
     },
     "output_type": "display_data"
    }
   ],
   "source": [
    "plt.clf()   # clear figure\n",
    "\n",
    "plt.plot(epochs, acc, 'bo', label='Training acc')\n",
    "plt.plot(epochs, val_acc, 'b', label='Validation acc')\n",
    "plt.title('Training and validation accuracy')\n",
    "plt.xlabel('Epochs')\n",
    "plt.ylabel('Accuracy')\n",
    "plt.legend()\n",
    "\n",
    "plt.show()"
   ]
  },
  {
   "cell_type": "markdown",
   "metadata": {},
   "source": [
    "# Save model"
   ]
  },
  {
   "cell_type": "markdown",
   "metadata": {},
   "source": [
    "Now that we have validated our model, we save it so we can load it and use it in our app later on"
   ]
  },
  {
   "cell_type": "code",
   "execution_count": 26,
   "metadata": {},
   "outputs": [],
   "source": [
    "tf.keras.models.save_model(\n",
    "    model,\n",
    "    './trump_model',\n",
    "    overwrite=True,\n",
    "    include_optimizer=True,\n",
    "    save_format=None\n",
    ")"
   ]
  }
 ],
 "metadata": {
  "kernelspec": {
   "display_name": "Python 3",
   "language": "python",
   "name": "python3"
  },
  "language_info": {
   "codemirror_mode": {
    "name": "ipython",
    "version": 3
   },
   "file_extension": ".py",
   "mimetype": "text/x-python",
   "name": "python",
   "nbconvert_exporter": "python",
   "pygments_lexer": "ipython3",
   "version": "3.7.3"
  }
 },
 "nbformat": 4,
 "nbformat_minor": 2
}
